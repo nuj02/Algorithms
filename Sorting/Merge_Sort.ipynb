{
 "cells": [
  {
   "cell_type": "markdown",
   "metadata": {},
   "source": [
    "# Merge Sort\n",
    "\n",
    "sorting list below:\n",
    "| 8 | 9 | 10 | 11 | 12 | 13 | 14 | 15 | 16 | 17 |\n",
    "| - | - | - | - | - | - | - | - | - | - | \n",
    "| ... | 2 | 4 | 5 | 7 | 1 | 2 | 3 | 6 | ... |\n"
   ]
  },
  {
   "cell_type": "code",
   "execution_count": 107,
   "metadata": {},
   "outputs": [],
   "source": [
    "arr = [None] * 17\n",
    "arr[9:16]= [2, 4, 5, 7, 1, 2, 3, 6]"
   ]
  },
  {
   "cell_type": "code",
   "execution_count": 108,
   "metadata": {},
   "outputs": [],
   "source": [
    "def merge(A, p, q, r):\n",
    "    n1 = q - p + 1 \n",
    "    n2 = r - q\n",
    "\n",
    "    L = [None] * (n1+1)\n",
    "    R = [None] * (n2+1)\n",
    "    \n",
    "    L[0:n1] = A[p:q+1] \n",
    "    L[n1] = float('inf')\n",
    "# \n",
    "    R[0:n2] = A[q+1:r+1] \n",
    "    R[n2] = float('inf')\n",
    "    \n",
    "    i = 0\n",
    "    j = 0\n",
    "\n",
    "    for k in range(p,r+1):\n",
    "        if L[i] <= R[j]:\n",
    "            A[k] = L[i]\n",
    "            i += 1\n",
    "        else:\n",
    "            A[k] = R[j]\n",
    "            j += 1\n",
    "\n",
    "    # print(f\"L is {L}\")\n",
    "    # print(f\"R is {R}\")\n",
    "    # print(f\"A is {A[p:r+1]}\")"
   ]
  },
  {
   "cell_type": "code",
   "execution_count": 111,
   "metadata": {},
   "outputs": [],
   "source": [
    "def mergeSort(A, p, r):\n",
    "    if p < r:\n",
    "        q = (p+r-1)//2\n",
    "        mergeSort(A,p,q)\n",
    "        mergeSort(A,q+1,r)\n",
    "        merge(A,p,q,r)\n",
    "    return(A[p:r+1])"
   ]
  },
  {
   "cell_type": "code",
   "execution_count": 112,
   "metadata": {},
   "outputs": [
    {
     "data": {
      "text/plain": [
       "[1, 2, 2, 3, 4, 5, 6, 7]"
      ]
     },
     "execution_count": 112,
     "metadata": {},
     "output_type": "execute_result"
    }
   ],
   "source": [
    "mergeSort(arr,9,16)"
   ]
  }
 ],
 "metadata": {
  "kernelspec": {
   "display_name": "base",
   "language": "python",
   "name": "python3"
  },
  "language_info": {
   "codemirror_mode": {
    "name": "ipython",
    "version": 3
   },
   "file_extension": ".py",
   "mimetype": "text/x-python",
   "name": "python",
   "nbconvert_exporter": "python",
   "pygments_lexer": "ipython3",
   "version": "3.11.5"
  }
 },
 "nbformat": 4,
 "nbformat_minor": 2
}
